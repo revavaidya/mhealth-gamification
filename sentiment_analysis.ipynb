{
 "cells": [
  {
   "cell_type": "code",
   "execution_count": null,
   "metadata": {},
   "outputs": [],
   "source": [
    "import pandas as pd\n",
    "strava_df = pd.read_csv('reviews_strava.csv')"
   ]
  },
  {
   "cell_type": "code",
   "execution_count": null,
   "metadata": {},
   "outputs": [],
   "source": [
    "strava_df = strava_df \\\n",
    "    .assign(has_leaderboard = lambda d: d['review'].str.contains('leaderboard', case=False))\n",
    "strava_df"
   ]
  },
  {
   "cell_type": "code",
   "execution_count": null,
   "metadata": {},
   "outputs": [],
   "source": [
    "strava_df['has_leaderboard'].sum()\n",
    "f= strava_df['has_leaderboard']\n",
    "strava_df_leaderboard = strava_df[f]"
   ]
  },
  {
   "cell_type": "code",
   "execution_count": null,
   "metadata": {},
   "outputs": [],
   "source": [
    "\n",
    "strava_df_leaderboard"
   ]
  },
  {
   "cell_type": "code",
   "execution_count": null,
   "metadata": {},
   "outputs": [],
   "source": [
    "\n",
    "from transformers import pipeline\n",
    "#import tensorflow\n",
    "import torch\n",
    "# Allocate a pipeline for sentiment-analysis\n",
    "# classifier = pipeline('sentiment-analysis')\n",
    "# strava_df['sentiment'] = classifier(strava_df['review'])\n",
    "# strava_df\n"
   ]
  },
  {
   "cell_type": "code",
   "execution_count": null,
   "metadata": {},
   "outputs": [],
   "source": []
  },
  {
   "cell_type": "code",
   "execution_count": null,
   "metadata": {},
   "outputs": [],
   "source": [
    "import flair\n",
    "from flair.models import TextClassifier\n",
    "from flair.data import Sentence\n",
    "\n",
    "sia = TextClassifier.load('en-sentiment')\n",
    "\n",
    "def flair_prediction(x):\n",
    "    sentence = Sentence(x)\n",
    "    sia.predict(sentence)\n",
    "    score = sentence.labels[0]\n",
    "    #print(score)\n",
    "    if \"POSITIVE\" in str(score):\n",
    "        return \"pos\"\n",
    "    elif \"NEGATIVE\" in str(score):\n",
    "        return \"neg\"\n",
    "    else:\n",
    "        return \"neu\"\n",
    "    \n",
    "def flair_prediction_value(x):\n",
    "    sentence = Sentence(x)\n",
    "    sia.predict(sentence)\n",
    "    score = sentence.labels[0]\n",
    "    return score.score"
   ]
  },
  {
   "cell_type": "code",
   "execution_count": null,
   "metadata": {},
   "outputs": [],
   "source": [
    "greetings = \"Hello World\"\n",
    "\n",
    "print((greetings))"
   ]
  },
  {
   "cell_type": "code",
   "execution_count": null,
   "metadata": {},
   "outputs": [],
   "source": [
    "#strava_df_leaderboard\n",
    "strava_df_leaderboard[\"flair_sentiment\"] = strava_df_leaderboard[\"review\"].apply(flair_prediction)\n",
    "\n",
    "#strava_df_leaderboard[\"sentences\"] = strava_df_leaderboard[\"review\"].apply(tokenize.sent_tokenize)\n",
    "strava_df_leaderboard[\"word_count\"] = strava_df_leaderboard['review'].str.split().str.len()\n",
    "# strava_df_leaderboard[\"sentiment_score\"] = strava_df_leaderboard[\"sentences\"].apply(lambda x: [flair_prediction(y) for y in x])\n",
    "\n",
    "\n"
   ]
  },
  {
   "cell_type": "code",
   "execution_count": null,
   "metadata": {},
   "outputs": [],
   "source": [
    "import time\n",
    "start = time.time()\n",
    "strava_df_leaderboard.loc[:,\"flair_sentiment\"] = strava_df_leaderboard[\"review\"].apply(flair_prediction)\n",
    "end = time.time()\n",
    "print(\"Time to compute using flair on leaderboard was\")\n",
    "print(end-start)"
   ]
  },
  {
   "cell_type": "code",
   "execution_count": null,
   "metadata": {},
   "outputs": [],
   "source": [
    "df_grouped = strava_df_leaderboard.groupby([\"rating\", \"flair_sentiment\"]).sum()\n",
    "df_grouped"
   ]
  },
  {
   "cell_type": "markdown",
   "metadata": {},
   "source": [
    "# Try to do analysis using VADER"
   ]
  },
  {
   "cell_type": "code",
   "execution_count": null,
   "metadata": {},
   "outputs": [],
   "source": [
    "import nltk\n",
    "import time\n",
    "nltk.download('vader_lexicon')\n",
    "import numpy as np\n",
    "from nltk.sentiment import SentimentIntensityAnalyzer\n",
    "import operator\n",
    "\n",
    "sia = SentimentIntensityAnalyzer()\n",
    "\n",
    "#df[\"sentiment\"] = df[\"reviews.text\"].apply(lambda x: max({k: sia.polarity_scores(x)[k] for k in good_keys}.items(), key=operator.itemgetter(1))[0])\n",
    "df = strava_df_leaderboard\n",
    "df.loc[:, \"word_count\"] = df[\"review\"].str.split().str.len()\n"
   ]
  },
  {
   "cell_type": "code",
   "execution_count": null,
   "metadata": {},
   "outputs": [],
   "source": [
    "%%time\n",
    "1+1"
   ]
  },
  {
   "cell_type": "code",
   "execution_count": null,
   "metadata": {},
   "outputs": [],
   "source": [
    "df"
   ]
  },
  {
   "cell_type": "code",
   "execution_count": null,
   "metadata": {},
   "outputs": [],
   "source": [
    "#%%time\n",
    "\n",
    "\n",
    "df.loc[:, \"vader_sentiment_score\"] = df.loc[:, \"review\"].apply(lambda x: sia.polarity_scores(x)[\"compound\"])\n",
    "\n",
    "df.loc[:, \"vader_sentiment\"] = np.select([df[\"vader_sentiment_score\"] < 0, df[\"vader_sentiment_score\"] == 0, df[\"vader_sentiment_score\"] > 0], ['neg', 'neu', 'pos'])\n"
   ]
  },
  {
   "cell_type": "code",
   "execution_count": null,
   "metadata": {},
   "outputs": [],
   "source": [
    "# rating_sorted_dfs = []\n",
    "# for i in range(1, 5):\n",
    "#     rating_sorted_dfs.append([df[df[\"rating\"] == i]])\n",
    "\n",
    "# for rating_df in rating_sorted_dfs:\n",
    "#     print(rating_df[0].describe())\n",
    "\n",
    "df.loc[:,'count'] = 1\n",
    "df_grouped = df.groupby([\"rating\", \"vader_sentiment\"]).sum()\n",
    "\n",
    "df.to_csv(\"strava_lb_sentiments.csv\")\n",
    "\n",
    "df_grouped"
   ]
  }
 ],
 "metadata": {
  "kernelspec": {
   "display_name": "env",
   "language": "python",
   "name": "python3"
  },
  "language_info": {
   "codemirror_mode": {
    "name": "ipython",
    "version": 3
   },
   "file_extension": ".py",
   "mimetype": "text/x-python",
   "name": "python",
   "nbconvert_exporter": "python",
   "pygments_lexer": "ipython3",
   "version": "3.11.6"
  }
 },
 "nbformat": 4,
 "nbformat_minor": 2
}
